{
 "cells": [
  {
   "cell_type": "code",
   "execution_count": 121,
   "id": "f640ac27-6760-412c-bffc-3ed5c75f7adc",
   "metadata": {},
   "outputs": [],
   "source": [
    "import jax\n",
    "import jax_metrics as jm\n",
    "import jax.numpy as jnp\n",
    "from jax import grad, jit, vmap\n",
    "from functools import partial\n",
    "from jax import random\n",
    "import os\n",
    "import numpy as np\n",
    "import matplotlib.pyplot as plt\n",
    "# Switch off the cache \n",
    "os.environ['XLA_PYTHON_CLIENT_PREALLOCATE'] = 'false'\n",
    "os.environ['XLA_PYTHON_CLIENT_ALLOCATOR'] = 'platform'"
   ]
  },
  {
   "cell_type": "markdown",
   "id": "d9b0fd2e-d1f5-4714-9f18-e9ccb8d53d5e",
   "metadata": {},
   "source": [
    "# Basic Linear Model\n",
    "\n",
    "Class for Linear estimation with Canonical and Gradient Descent"
   ]
  },
  {
   "cell_type": "code",
   "execution_count": 122,
   "id": "a1a47c36-3e3d-4dc2-964a-8cc5b9f3114f",
   "metadata": {},
   "outputs": [],
   "source": [
    "class Linear_Model():\n",
    "    \"\"\"\n",
    "    Basic Linear Regression with Ridge Regression\n",
    "    \"\"\"\n",
    "    def __init__(self, dim: int) -> None:\n",
    "        self.dim = dim\n",
    "        self.key = random.PRNGKey(0)\n",
    "        self.cpus = jax.devices(\"cpu\")\n",
    "    \n",
    "    # The classic one\n",
    "    def generate_canonical_estimator(self, X: jnp, y:jnp) -> jnp:\n",
    "        \"\"\"\n",
    "        Cannonical LSE error solution for the Linearly separable classes \n",
    "        args:\n",
    "            X: Data array at the GPU or CPU\n",
    "            y: Label array at the GPU \n",
    "        returns:\n",
    "            w: Weight array at the GPU or CPU\n",
    "        \"\"\"\n",
    "        return  jax.numpy.linalg.inv(jax.numpy.transpose(X)@X)@jax.numpy.transpose(X)@y\n",
    "    \n",
    "    @staticmethod\n",
    "    @jit\n",
    "    def linear_model(X: jnp, theta: jnp) -> jnp:\n",
    "        \"\"\"\n",
    "        Classic Linear Model. Jit has been used to accelerate the loops after the first one\n",
    "        for the Gradient Descent part\n",
    "        args:\n",
    "            X: Data array at the GPU or CPU\n",
    "            theta: Parameter w for weights and b for bias\n",
    "        returns:\n",
    "            f(x): the escalar estimation on vector x or the array of estimations\n",
    "        \"\"\"\n",
    "        w = theta[:-1]\n",
    "        b = theta[-1]\n",
    "\n",
    "        \n",
    "        \n",
    "        return jax.numpy.matmul(X, w) + b\n",
    "    \n",
    "    @partial(jit, static_argnums=(0,))\n",
    "    def LSE(self, theta: jnp, X: jnp, y: jnp)-> jnp:\n",
    "        \"\"\"\n",
    "        LSE in matrix form. We also use Jit por froze info at self to follow \n",
    "        the idea of functional programming on Jit for no side effects\n",
    "        args:\n",
    "            X: Data array at the GPU or CPU\n",
    "            theta: Parameter w for weights and b for bias\n",
    "            y: array of labels\n",
    "        returns:\n",
    "            the Loss function LSE under data X, labels y and theta initial estimation\n",
    "        \"\"\"\n",
    "        return (jax.numpy.transpose(y - self.linear_model(X, theta))@(y - self.linear_model(X, theta)))[0,0]\n",
    "\n",
    "        #(jax.numpy.transpose(y - jax.numpy.matmul(X, w) + b)@(y - jax.numpy.matmul(X, w) + b))[0,0]\n",
    "    \n",
    "    @partial(jit, static_argnums=(0,))\n",
    "    def update(self, theta: jnp, X: jnp, y: jnp, lr):\n",
    "        \"\"\"\n",
    "        Update makes use of the autograd at Jax to calculate the gradient descent.\n",
    "        args:\n",
    "            X: Data array at the GPU or CPU\n",
    "            theta: Parameter w for weights and b for bias\n",
    "            y: array of labels\n",
    "            lr: Learning rate for Gradient Descent\n",
    "        returns:\n",
    "            the step update w(n+1) = w(n)-δ(t)𝜵L(w(n))        \n",
    "        \"\"\"\n",
    "        return theta - lr * jax.grad(self.LSE)(theta, X, y)\n",
    "\n",
    "    \n",
    "\n",
    "    def generate_w_aug(self):\n",
    "        \"\"\"\n",
    "        Use the random generator at Jax to generate a random generator to instanciate\n",
    "        the augmented values\n",
    "        \"\"\"\n",
    "        keys = random.split(self.key, 1)\n",
    "        return jax.numpy.vstack([random.normal(keys, (self.dim,1)), jax.numpy.array(1)])\n",
    "    \n",
    "    def generate_theta(self):\n",
    "        \"\"\"\n",
    "        Use the random generator at Jax to generate a random generator to instanciate\n",
    "        the augmented values\n",
    "        \"\"\"\n",
    "        keys = random.split(self.key, 1)\n",
    "        return jax.numpy.vstack([random.normal(keys[0], (self.dim,1)), jax.numpy.array(0)])\n",
    "        #return jax.numpy.vstack([random.normal(keys), jax.numpy.array(0)])\n",
    "    \n",
    "    @partial(jit, static_argnums=(0,))\n",
    "    def estimate_grsl(self, X, theta):\n",
    "        \"\"\"\n",
    "        Estimation for the Gradient Descent version\n",
    "        args:\n",
    "            X: Data array at the GPU or CPU\n",
    "            theta: Parameter w for weights and b for bias\n",
    "        return:\n",
    "            Estimation of data X under linear model\n",
    "        \"\"\"\n",
    "        w = theta[:-1]\n",
    "        b = theta[-1]\n",
    "        return X@w+b\n",
    "    \n",
    "    @staticmethod\n",
    "    def estimate_cannonical(X: jnp, w: jnp)->jnp:\n",
    "        \"\"\"\n",
    "        Estimation for the Gradient Descent version\n",
    "        args:\n",
    "            X: Data array at the GPU or CPU\n",
    "            w: Parameter w under extended space\n",
    "        return:\n",
    "            Estimation of data X under cannonical solution\n",
    "        \"\"\"\n",
    "        return X@w\n",
    "    \n",
    "    def precision(self, y, y_hat):\n",
    "        \"\"\"\n",
    "        Precision\n",
    "        args:\n",
    "            y: Real Labels\n",
    "            y_hat: estimated labels\n",
    "        return TP/(TP+FP)\n",
    "        \"\"\"\n",
    "        TP=0\n",
    "        FP=0\n",
    "        for i in range(len(y)):\n",
    "            if(y_hat[i]>0 and y[i]>0) :\n",
    "                TP+=1\n",
    "            if(y_hat[i]>0 and y[i]<0):\n",
    "                FP+=1\n",
    "            \n",
    "\n",
    "        #TP = sum(y_hat[y>0]>0)\n",
    "        #FP = sum(y_hat[y>0]<0)\n",
    "        precision_cpu = jax.jit(lambda x: x, device=self.cpus[0])(TP/(TP+FP))\n",
    "        return float(precision_cpu)\n",
    "    \n",
    "    def accuracy(self, y, y_hat):\n",
    "        \"\"\"\n",
    "        Precision\n",
    "        args:\n",
    "            y: Real Labels\n",
    "            y_hat: estimated labels\n",
    "        return TP/(TP+FP)\n",
    "        \"\"\"\n",
    "        TP=0\n",
    "        TN=0\n",
    "        FP=0\n",
    "        FN=0\n",
    "        for i in range(len(y)):\n",
    "            if(y_hat[i]>0 and y[i]>0) :\n",
    "                TP+=1\n",
    "            if(y_hat[i]<0 and y[i]<0):\n",
    "                TN+=1\n",
    "            if(y_hat[i]<0 and y[i]>0):\n",
    "                FP+=1\n",
    "            if(y_hat[i]>0 and y[i]<0):\n",
    "                FN+=1\n",
    "\n",
    "        #TP = sum(y_hat[y>0]>0)\n",
    "        #FP = sum(y_hat[y>0]<0)\n",
    "        accuracy_cpu = jax.jit(lambda x: x, device=self.cpus[0])((TP+TN)/(TP+FP+TN+FN))\n",
    "        return float(accuracy_cpu)\n",
    "    \n",
    "    def gradient_descent(self, theta: jnp,  X: jnp, y: jnp, n_steps: int, lr = 0.001):\n",
    "        \"\"\"\n",
    "        Gradient Descent Loop for the LSE Linear Model\n",
    "        args:\n",
    "            X: Data array at the GPU or CPU\n",
    "            theta: Parameter w for weights and b for bias\n",
    "            y: array of labels\n",
    "            n_steps: number steps for the Gradient Loop\n",
    "            lr: Learning rate for Gradient Descent   \n",
    "        return:\n",
    "            Updated Theta\n",
    "        \"\"\"\n",
    "        for i in range(n_steps):\n",
    "            theta = self.update(theta, X, y, lr)\n",
    "        return theta\n",
    "    \n",
    "    \n",
    "    #algoritmo para el golden ratio\n",
    "\n",
    "    def update_golden(self, theta: jnp, X: jnp, y: jnp,a:int,c:int, MaxSteps:int, epsilon:float):\n",
    "        \n",
    "        error=jax.grad(self.LSE)(theta, X, y)\n",
    "        print(\"este es el error\",error)\n",
    "        theta_minimizado=self.min(a,c, theta, error,X,y,MaxSteps,epsilon)\n",
    "        return theta_minimizado\n",
    "        '''\n",
    "       ####este era otro intento de golden ratio que por alguna razón no funcionó \n",
    "    def golden_ratio(self,y,theta,X,x1,x3, error):\n",
    "        print(theta)\n",
    "\n",
    "        def j(lr):\n",
    "            #error=jax.grad(self.LSE)(theta, X, y)\n",
    "            theta2=theta - lr *  error\n",
    "            \n",
    "            j=self.LSE(theta2,X,y)\n",
    "            #j=(jax.numpy.transpose(y - self.linear_model(X, theta2))@(y - self.linear_model(X, theta2)))[0,0]\n",
    "\n",
    "            #=(jax.numpy.transpose(y - self.linear_model(X, theta))@(y - self.linear_model(X, theta)))[0,0]\n",
    "            \n",
    "            return j\n",
    "        phi=1.618\n",
    "        ep=1e-5\n",
    "        x2=x1+(x3-x1)/(1+phi)\n",
    "        x4=x2+(x3-x2)/(1+phi)\n",
    "        j_2=j(x2)\n",
    "        j_4=j(x4)\n",
    "       # print(x2,x4)\n",
    "        i=0\n",
    "        while abs(x3-x1)>ep:\n",
    "            \n",
    "            if j_2<j_4:\n",
    "                x3=x4\n",
    "                \n",
    "                x2=x1+(x3-x1)/(1+phi)\n",
    "                x4=x2+(x3-x2)/(1+phi)\n",
    "                print('if',x2,j(x2))\n",
    "            else:\n",
    "                x1=x2\n",
    "                \n",
    "                x2=x1+(x3-x1)/(1+phi)\n",
    "                x4=x2+(x3-x2)/(1+phi)\n",
    "                print('else',x2,j(x2))\n",
    "            i=i+1   \n",
    "        lr=(x3-x1)/2\n",
    "        print(j(lr),lr,i)\n",
    "        return lr\n",
    "    \n",
    "    def lr_update(self,theta, X, y,lr, error):\n",
    "            x1=-1\n",
    "            x3=1\n",
    "            lr=self.golden_ratio(y,theta,X,x1,x3,error)\n",
    "            theta=self.update(theta, X, y,lr)\n",
    "            print(theta)\n",
    "            return lr\n",
    "\n",
    "    def gradient_descent_lr(self, theta: jnp,  X: jnp, y: jnp, n_steps: int, lr):\n",
    "        \n",
    "        \n",
    "        #theta=self.update(theta, X, y,lr)\n",
    "        error=jax.grad(self.LSE)(theta, X, y)\n",
    "        print(\"este es el erro\", error, \"este es theta\", theta, \"este es x\",y)\n",
    "        lr=self.lr_update(theta, X, y,lr,error)\n",
    "        \n",
    "        #print(theta[0],lr)\n",
    "        return theta\n",
    "\n",
    "    @partial(jit, static_argnums=(0,))\n",
    "    def estimate_grsl(self, X, theta):\n",
    "        \"\"\"\n",
    "        Estimation for the Gradient Descent version\n",
    "        args:\n",
    "            X: Data array at the GPU or CPU\n",
    "            theta: Parameter w for weights and b for bias\n",
    "        return:\n",
    "            Estimation of data X under linear model\n",
    "        \"\"\"\n",
    "        w = theta[:-1]\n",
    "        b = theta[-1]\n",
    "        return X@w+b\n",
    "      '''\n",
    "    def golden_iniciales(self,a:int,c:int):\n",
    "        phi=1.618\n",
    "        b=a + (c-a)/(1+phi)\n",
    "        d=b+(c-b)/(1+phi)\n",
    "        return b,d\n",
    "\n",
    "    def min(self,a,c, theta: jnp, error,X: jnp,y: jnp, MaxSteps:int, epsilon:float):\n",
    "        \n",
    "        phi=1.618\n",
    "        Step=0\n",
    "        print(\" error\",error)\n",
    "\n",
    "        def theta2(lr, theta, error):\n",
    "            theta2= theta - lr * error\n",
    "            return theta2\n",
    "\n",
    "        b,d=self.golden_iniciales(a,c)\n",
    "        \n",
    "        f_a=self.LSE(theta2(a, theta, error), X, y)\n",
    "        f_c=self.LSE(theta2(c, theta, error), X, y)\n",
    "        \n",
    "        while abs(a-c)>epsilon and Step < MaxSteps:\n",
    "            f_d=self.LSE(theta2(d, theta, error), X, y)\n",
    "            f_b=self.LSE(theta2(b, theta, error), X, y)\n",
    "            if f_b<f_d:\n",
    "                c=d\n",
    "                f_c=f_d\n",
    "                b=a + (c-a)/(1+phi)\n",
    "                d=b+(c-b)/(1+phi)\n",
    "                print(b, f_b)\n",
    "            else:\n",
    "                a=b\n",
    "                f_a=f_b\n",
    "                b=a + (c-a)/(1+phi)\n",
    "                d=b+(c-b)/(1+phi)\n",
    "                print(b, f_b)\n",
    "            Step +=1\n",
    "\n",
    "        print(\"se necesitaron estos pasos:\", Step)\n",
    "        theta_min=theta2(b, theta, error)\n",
    "        return theta_min\n",
    "\n",
    "    ####################################################################################################\n",
    "    #############################vamos a hacer el método de bisección#####################################\n",
    "    def gradient_descent_biseccion(self, theta: jnp,  X: jnp, y: jnp, n_steps: int, a, b):\n",
    "        for i in range(n_steps):\n",
    "            c = a + b / 2\n",
    "            theta = self.update(theta, X, y, c)\n",
    "            b = c\n",
    "            print(f\"lr: {c}\")\n",
    "        return theta\n",
    "    ######################################################################################################\n",
    "    #########vamos a hacer la implementación de la regularización de Ridge##################################\n",
    "\n",
    "    def generate_canonicalRidge_estimator(self, X: jnp, y:jnp,la:jnp) -> jnp:\n",
    "        \"\"\"\n",
    "        Cannonical LSE error solution for the Linearly separable classes \n",
    "        args:\n",
    "            X: Data array at the GPU or CPU\n",
    "            y: Label array at the GPU \n",
    "        returns:\n",
    "            w: Weight array at the GPU or CPU\n",
    "        \"\"\"\n",
    "        XX=jax.numpy.transpose(X)@X\n",
    "        dimension=int(jnp.shape(XX)[0])\n",
    "        I=jax.numpy.identity(dimension)\n",
    "        return  jax.numpy.linalg.inv(XX+la*I)@jax.numpy.transpose(X)@y\n",
    "    \n",
    "    @staticmethod\n",
    "    def estimate_cannonicalRidge(X: jnp, w: jnp)->jnp:\n",
    "        \"\"\"\n",
    "        Estimation for the Gradient Descent version\n",
    "        args:\n",
    "            X: Data array at the GPU or CPU\n",
    "            w: Parameter w under extended space\n",
    "        return:\n",
    "            Estimation of data X under cannonical solution\n",
    "        \"\"\"\n",
    "        return X@w\n",
    "    "
   ]
  },
  {
   "cell_type": "code",
   "execution_count": null,
   "id": "8a4b7efc",
   "metadata": {},
   "outputs": [],
   "source": [
    "\n"
   ]
  },
  {
   "cell_type": "markdown",
   "id": "ab13cfd3-318e-49bc-a579-ff0b43963d41",
   "metadata": {},
   "source": [
    "# Generate Data"
   ]
  },
  {
   "cell_type": "code",
   "execution_count": 123,
   "id": "06495957-df3c-48d3-bd8e-07072328a542",
   "metadata": {},
   "outputs": [],
   "source": [
    "X1 = np.random.normal(size=(100,2))\n",
    "X2 = np.random.normal(size=(100,2))+(5,5)"
   ]
  },
  {
   "cell_type": "code",
   "execution_count": 124,
   "id": "55e6c83e-450e-4a00-b6f6-34c4ff290c83",
   "metadata": {},
   "outputs": [
    {
     "data": {
      "text/plain": [
       "[<matplotlib.lines.Line2D at 0x2172ecf02b0>]"
      ]
     },
     "execution_count": 124,
     "metadata": {},
     "output_type": "execute_result"
    },
    {
     "data": {
      "image/png": "[encoded data removed]",
      "text/plain": [
       "<Figure size 640x480 with 1 Axes>"
      ]
     },
     "metadata": {},
     "output_type": "display_data"
    }
   ],
   "source": [
    "plt.figure()\n",
    "plt.plot(X1[:,0], X1[:,1], 'ro')\n",
    "plt.plot(X2[:,0], X2[:,1], 'bo')"
   ]
  },
  {
   "cell_type": "markdown",
   "id": "668c3b46-20f9-4c31-98f2-9b9c958a5be7",
   "metadata": {},
   "source": [
    "# Expriments\n",
    "Data Augmentation is applied for the Cannonical version"
   ]
  },
  {
   "cell_type": "code",
   "execution_count": 125,
   "id": "fdccc8f1-22a4-42db-b468-79ec7e45811e",
   "metadata": {},
   "outputs": [],
   "source": [
    "X1_e = np.hstack([X1, np.ones((100,1))])\n",
    "X2_e = np.hstack([X2, np.ones((100,1))])"
   ]
  },
  {
   "cell_type": "code",
   "execution_count": 126,
   "id": "f6bed5cf-b2ed-4a5f-9f2b-a382d8e7e897",
   "metadata": {},
   "outputs": [],
   "source": [
    "X_e = np.vstack([X1_e, X2_e])\n",
    "X = np.vstack([X1, X2]) #va a tener todos los datos de X1 y X2 en un solo vector\n"
   ]
  },
  {
   "cell_type": "code",
   "execution_count": 127,
   "id": "18644880-ec04-426a-94d0-f36fed87bbb8",
   "metadata": {},
   "outputs": [],
   "source": [
    "y = np.vstack([-np.ones((100, 1)), np.ones((100, 1))])"
   ]
  },
  {
   "cell_type": "code",
   "execution_count": 128,
   "id": "6728ffdc",
   "metadata": {},
   "outputs": [],
   "source": [
    "model=Linear_Model(2)"
   ]
  },
  {
   "attachments": {},
   "cell_type": "markdown",
   "id": "edea1355",
   "metadata": {},
   "source": [
    "Vamos a llamar al modelo de bisección\n"
   ]
  },
  {
   "cell_type": "code",
   "execution_count": 129,
   "id": "dc20d126",
   "metadata": {},
   "outputs": [
    {
     "name": "stdout",
     "output_type": "stream",
     "text": [
      "lr: 0.005\n",
      "lr: 0.0025\n",
      "lr: 0.00125\n",
      "lr: 0.000625\n",
      "lr: 0.0003125\n",
      "lr: 0.00015625\n",
      "lr: 7.8125e-05\n",
      "lr: 3.90625e-05\n",
      "lr: 1.953125e-05\n",
      "lr: 9.765625e-06\n",
      "lr: 4.8828125e-06\n",
      "lr: 2.44140625e-06\n",
      "lr: 1.220703125e-06\n",
      "lr: 6.103515625e-07\n",
      "lr: 3.0517578125e-07\n",
      "lr: 1.52587890625e-07\n",
      "lr: 7.62939453125e-08\n",
      "lr: 3.814697265625e-08\n",
      "lr: 1.9073486328125e-08\n",
      "lr: 9.5367431640625e-09\n"
     ]
    }
   ],
   "source": [
    "theta= model.generate_theta()\n",
    "a=0\n",
    "b=0.01\n",
    "theta = model.gradient_descent_biseccion(theta, X, y, 20, a, b)"
   ]
  },
  {
   "attachments": {},
   "cell_type": "markdown",
   "id": "0557a99c",
   "metadata": {},
   "source": [
    "Ahora vamos a realizar la estimación y ver qué recall obtenemos"
   ]
  },
  {
   "cell_type": "code",
   "execution_count": 130,
   "id": "4e2c345b",
   "metadata": {},
   "outputs": [
    {
     "data": {
      "text/plain": [
       "0.6410256624221802"
      ]
     },
     "execution_count": 130,
     "metadata": {},
     "output_type": "execute_result"
    }
   ],
   "source": [
    "y_hat = model.estimate_grsl(X, theta)\n",
    "recall=model.precision(y, y_hat)\n",
    "recall"
   ]
  },
  {
   "attachments": {},
   "cell_type": "markdown",
   "id": "03dac872",
   "metadata": {},
   "source": [
    "Vamos a hacer el modelo de Ridge probando para varios valores de lambda"
   ]
  },
  {
   "cell_type": "code",
   "execution_count": 131,
   "id": "cf7660c2",
   "metadata": {},
   "outputs": [
    {
     "name": "stdout",
     "output_type": "stream",
     "text": [
      "1.0 0.2\n",
      "0.9900990128517151 0.4\n",
      "0.9900990128517151 0.6000000000000001\n",
      "0.9900990128517151 0.8\n",
      "0.9900990128517151 1.0\n",
      "0.9900990128517151 1.2\n",
      "0.9900990128517151 1.4\n",
      "0.9900990128517151 1.5999999999999999\n",
      "0.9900990128517151 1.7999999999999998\n",
      "0.9900990128517151 1.9999999999999998\n",
      "0.9900990128517151 2.1999999999999997\n",
      "0.9900990128517151 2.4\n",
      "0.9900990128517151 2.6\n",
      "0.9900990128517151 2.8000000000000003\n",
      "0.9900990128517151 3.0000000000000004\n",
      "0.9900990128517151 3.2000000000000006\n",
      "0.9900990128517151 3.400000000000001\n",
      "0.9900990128517151 3.600000000000001\n",
      "0.9900990128517151 3.800000000000001\n",
      "0.9900990128517151 4.000000000000001\n"
     ]
    },
    {
     "data": {
      "image/png": "[encoded data removed]",
      "text/plain": [
       "<Figure size 640x480 with 1 Axes>"
      ]
     },
     "metadata": {},
     "output_type": "display_data"
    }
   ],
   "source": [
    "#vamos a buscar lambda en un grid de puntos[0,0.5,1,...]\n",
    "l=0\n",
    "max_steps=20\n",
    "l_vec=np.zeros(int(max_steps))\n",
    "precision=np.zeros(int(max_steps))\n",
    "for i in range(max_steps):\n",
    "    l=l+0.2\n",
    "    l_vec[i]=l\n",
    "    wR = model.generate_canonicalRidge_estimator(X_e, y,l)\n",
    "    y_hatR = model.estimate_cannonicalRidge(X_e, wR)\n",
    "    precision[i]=model.precision(y, y_hatR)\n",
    "    print(precision[i],l\n",
    "    )\n",
    "\n",
    "w = model.generate_canonical_estimator(X_e, y)\n",
    "y_hat = model.estimate_cannonical(X_e, w)\n",
    "\n",
    "plt.plot(l_vec,precision,'*-')\n",
    "plt.xlabel('lambda')\n",
    "plt.ylabel('recall')\n",
    "plt.show()"
   ]
  },
  {
   "cell_type": "code",
   "execution_count": 132,
   "id": "1fbc7058",
   "metadata": {},
   "outputs": [
    {
     "data": {
      "image/png": "[encoded data removed]",
      "text/plain": [
       "<Figure size 640x480 with 1 Axes>"
      ]
     },
     "metadata": {},
     "output_type": "display_data"
    }
   ],
   "source": [
    "#veamos cómo cambian las predicciónes para el canónico (estrellas rojas) y con el último valor de lambda (estrellas azules)\n",
    "plt.plot(y_hatR,'*b')\n",
    "plt.plot(y_hat,'*r')\n",
    "plt.show()"
   ]
  },
  {
   "cell_type": "code",
   "execution_count": 133,
   "id": "e71d3a7a-776c-49d6-99a6-097388518ee9",
   "metadata": {},
   "outputs": [
    {
     "name": "stdout",
     "output_type": "stream",
     "text": [
      "[[1.4321449]\n",
      " [1.3629805]\n",
      " [0.       ]]\n"
     ]
    }
   ],
   "source": [
    "theta = model.generate_theta()\n",
    "print(theta)"
   ]
  },
  {
   "cell_type": "code",
   "execution_count": 134,
   "id": "cd1fb48c-e939-4e96-897a-b489e1eac266",
   "metadata": {},
   "outputs": [
    {
     "name": "stdout",
     "output_type": "stream",
     "text": [
      "este es el error [[14097.997 ]\n",
      " [14122.288 ]\n",
      " [ 2895.7656]]\n",
      " error [[14097.997 ]\n",
      " [14122.288 ]\n",
      " [ 2895.7656]]\n",
      "0.2360802366644274 124891770000.0\n",
      "0.055742348897221905 124723225000.0\n",
      "-0.0557137005982033 6936131600.0\n",
      "0.05574434861670731 6974294500.0\n",
      "0.013171845327657764 6936628700.0\n",
      "-0.01313966964280499 383220770.0\n",
      "0.0131723174029683 392022430.0\n",
      "0.0031221939445204086 383248420.0\n",
      "-0.003089185546992083 20580526.0\n",
      "0.0031223053877005398 22646762.0\n",
      "0.000749765045304818 20582038.0\n",
      "-0.0007165600686573847 972640.56\n",
      "0.0007497913537817076 1459774.0\n",
      "0.00018970393798348184 972718.44\n",
      "-0.00015645255475283738 21983.666\n",
      "0.00018971014864577125 136945.53\n",
      "5.7489883417837694e-05 21986.416\n",
      "-2.4227544949551017e-05 2544.6472\n",
      "5.749134957364123e-05 29681.785\n",
      "0.00010799599867162636 2544.4272\n",
      "8.87052488784869e-05 728.307\n",
      "7.678279159361784e-05 73.46625\n",
      "8.87054627885461e-05 502.1729\n",
      "8.415148070976738e-05 73.46427\n",
      "8.870554449507293e-05 162.0615\n",
      "9.152008811792411e-05 73.46351\n",
      "se necesitaron estos pasos: 26\n"
     ]
    }
   ],
   "source": [
    "theta = model.update_golden(theta, X, y,a=-1,c=1, MaxSteps=100, epsilon=0.00001)"
   ]
  },
  {
   "cell_type": "code",
   "execution_count": 135,
   "id": "d9dcece6-d00e-4578-9854-09b39ca49921",
   "metadata": {},
   "outputs": [
    {
     "name": "stdout",
     "output_type": "stream",
     "text": [
      "[[ 0.14189494]\n",
      " [ 0.07050741]\n",
      " [-0.26502073]]\n"
     ]
    },
    {
     "data": {
      "text/plain": [
       "0.9615384340286255"
      ]
     },
     "execution_count": 135,
     "metadata": {},
     "output_type": "execute_result"
    }
   ],
   "source": [
    "print(theta)\n",
    "y_hat = model.estimate_grsl(X, theta)\n",
    "model.precision(y, y_hat)"
   ]
  },
  {
   "cell_type": "code",
   "execution_count": 136,
   "id": "f968a14c",
   "metadata": {},
   "outputs": [
    {
     "name": "stdout",
     "output_type": "stream",
     "text": [
      "[[ 0.191542  ]\n",
      " [ 0.15854096]\n",
      " [-0.8600858 ]]\n"
     ]
    }
   ],
   "source": [
    "w = model.generate_canonical_estimator(X_e, y)\n",
    "y_hat = model.estimate_cannonical(X_e, w)   #multiplica X y w\n",
    "theta = model.generate_theta()\n",
    "theta = model.gradient_descent(theta, X, y, 100, lr = 0.0001)\n",
    "print(theta)"
   ]
  },
  {
   "cell_type": "code",
   "execution_count": 137,
   "id": "20447402-4e78-4fc1-b8f5-a74f3bf9a31c",
   "metadata": {},
   "outputs": [
    {
     "data": {
      "text/plain": [
       "1.0"
      ]
     },
     "execution_count": 137,
     "metadata": {},
     "output_type": "execute_result"
    }
   ],
   "source": [
    "model.precision(y, y_hat)"
   ]
  },
  {
   "cell_type": "code",
   "execution_count": 138,
   "id": "410a42b9-9455-4893-b9f4-9f51072c018f",
   "metadata": {},
   "outputs": [
    {
     "data": {
      "image/png": "[encoded data removed]",
      "text/plain": [
       "<Figure size 640x480 with 1 Axes>"
      ]
     },
     "metadata": {},
     "output_type": "display_data"
    }
   ],
   "source": [
    "#y por último veamos qué tanto difieren nuestras predicciones (estrellas azules) de los valores verdaderos de las clases (linea roja)\n",
    "plt.plot(y,'.r')\n",
    "plt.plot(y_hat,'*b')\n",
    "\n",
    "plt.show()"
   ]
  }
 ],
 "metadata": {
  "kernelspec": {
   "display_name": "Python 3",
   "language": "python",
   "name": "python3"
  },
  "language_info": {
   "codemirror_mode": {
    "name": "ipython",
    "version": 3
   },
   "file_extension": ".py",
   "mimetype": "text/x-python",
   "name": "python",
   "nbconvert_exporter": "python",
   "pygments_lexer": "ipython3",
   "version": "3.10.5"
  },
  "vscode": {
   "interpreter": {
    "hash": "204b973de28be2f053450059895fb876f6b1718ca01aa708473ad2968cb937fd"
   }
  }
 },
 "nbformat": 4,
 "nbformat_minor": 5
}
